{
 "cells": [
  {
   "cell_type": "code",
   "execution_count": 45,
   "metadata": {
    "id": "RCrDVxKL38N-"
   },
   "outputs": [],
   "source": [
    "import numpy as np\n",
    "import pandas as pd"
   ]
  },
  {
   "cell_type": "code",
   "execution_count": 46,
   "metadata": {
    "id": "GOieVjLnDuaA"
   },
   "outputs": [],
   "source": [
    "from sklearn.linear_model import LinearRegression, Ridge, Lasso\n",
    "from sklearn.neighbors import KNeighborsRegressor\n",
    "from sklearn.tree import DecisionTreeRegressor\n",
    "from sklearn.ensemble import RandomForestRegressor, GradientBoostingRegressor, AdaBoostRegressor, ExtraTreesRegressor\n",
    "from sklearn.svm import SVR\n",
    "\n"
   ]
  },
  {
   "cell_type": "code",
   "execution_count": 47,
   "metadata": {
    "colab": {
     "base_uri": "https://localhost:8080/",
     "height": 363
    },
    "id": "C09bvvQf4Q9u",
    "outputId": "cea03baf-359d-49df-8b28-97bc526cade0"
   },
   "outputs": [
    {
     "data": {
      "text/html": [
       "<div>\n",
       "<style scoped>\n",
       "    .dataframe tbody tr th:only-of-type {\n",
       "        vertical-align: middle;\n",
       "    }\n",
       "\n",
       "    .dataframe tbody tr th {\n",
       "        vertical-align: top;\n",
       "    }\n",
       "\n",
       "    .dataframe thead th {\n",
       "        text-align: right;\n",
       "    }\n",
       "</style>\n",
       "<table border=\"1\" class=\"dataframe\">\n",
       "  <thead>\n",
       "    <tr style=\"text-align: right;\">\n",
       "      <th></th>\n",
       "      <th>Brand</th>\n",
       "      <th>Processor</th>\n",
       "      <th>RAM (GB)</th>\n",
       "      <th>Storage (GB)</th>\n",
       "      <th>GPU</th>\n",
       "      <th>Screen Size (inches)</th>\n",
       "      <th>Battery Life (hours)</th>\n",
       "      <th>Price (INR)</th>\n",
       "    </tr>\n",
       "  </thead>\n",
       "  <tbody>\n",
       "    <tr>\n",
       "      <th>0</th>\n",
       "      <td>Dell</td>\n",
       "      <td>Intel i3</td>\n",
       "      <td>4</td>\n",
       "      <td>256</td>\n",
       "      <td>Integrated</td>\n",
       "      <td>14.0</td>\n",
       "      <td>11</td>\n",
       "      <td>38000</td>\n",
       "    </tr>\n",
       "    <tr>\n",
       "      <th>1</th>\n",
       "      <td>Lenovo</td>\n",
       "      <td>Intel i3</td>\n",
       "      <td>4</td>\n",
       "      <td>2048</td>\n",
       "      <td>RTX 4090</td>\n",
       "      <td>15.6</td>\n",
       "      <td>5</td>\n",
       "      <td>113000</td>\n",
       "    </tr>\n",
       "    <tr>\n",
       "      <th>2</th>\n",
       "      <td>HP</td>\n",
       "      <td>Ryzen 5</td>\n",
       "      <td>16</td>\n",
       "      <td>1024</td>\n",
       "      <td>RTX 4090</td>\n",
       "      <td>15.6</td>\n",
       "      <td>9</td>\n",
       "      <td>132000</td>\n",
       "    </tr>\n",
       "    <tr>\n",
       "      <th>3</th>\n",
       "      <td>MSI</td>\n",
       "      <td>Ryzen 7</td>\n",
       "      <td>32</td>\n",
       "      <td>512</td>\n",
       "      <td>GTX 1650</td>\n",
       "      <td>16.0</td>\n",
       "      <td>5</td>\n",
       "      <td>144000</td>\n",
       "    </tr>\n",
       "    <tr>\n",
       "      <th>4</th>\n",
       "      <td>Acer</td>\n",
       "      <td>Ryzen 3</td>\n",
       "      <td>4</td>\n",
       "      <td>512</td>\n",
       "      <td>GTX 1650</td>\n",
       "      <td>14.0</td>\n",
       "      <td>8</td>\n",
       "      <td>58000</td>\n",
       "    </tr>\n",
       "    <tr>\n",
       "      <th>5</th>\n",
       "      <td>Dell</td>\n",
       "      <td>Intel i7</td>\n",
       "      <td>16</td>\n",
       "      <td>256</td>\n",
       "      <td>RTX 4090</td>\n",
       "      <td>16.0</td>\n",
       "      <td>5</td>\n",
       "      <td>132000</td>\n",
       "    </tr>\n",
       "    <tr>\n",
       "      <th>6</th>\n",
       "      <td>HP</td>\n",
       "      <td>Intel i9</td>\n",
       "      <td>4</td>\n",
       "      <td>2048</td>\n",
       "      <td>RTX 4070</td>\n",
       "      <td>13.0</td>\n",
       "      <td>11</td>\n",
       "      <td>153000</td>\n",
       "    </tr>\n",
       "    <tr>\n",
       "      <th>7</th>\n",
       "      <td>Lenovo</td>\n",
       "      <td>Intel i3</td>\n",
       "      <td>4</td>\n",
       "      <td>512</td>\n",
       "      <td>RTX 4090</td>\n",
       "      <td>15.6</td>\n",
       "      <td>11</td>\n",
       "      <td>83000</td>\n",
       "    </tr>\n",
       "    <tr>\n",
       "      <th>8</th>\n",
       "      <td>Apple</td>\n",
       "      <td>Ryzen 5</td>\n",
       "      <td>4</td>\n",
       "      <td>1024</td>\n",
       "      <td>Integrated</td>\n",
       "      <td>17.0</td>\n",
       "      <td>11</td>\n",
       "      <td>98000</td>\n",
       "    </tr>\n",
       "    <tr>\n",
       "      <th>9</th>\n",
       "      <td>Lenovo</td>\n",
       "      <td>Intel i5</td>\n",
       "      <td>4</td>\n",
       "      <td>1024</td>\n",
       "      <td>RTX 4060</td>\n",
       "      <td>16.0</td>\n",
       "      <td>12</td>\n",
       "      <td>93000</td>\n",
       "    </tr>\n",
       "  </tbody>\n",
       "</table>\n",
       "</div>"
      ],
      "text/plain": [
       "    Brand Processor  RAM (GB)  Storage (GB)         GPU  Screen Size (inches)  \\\n",
       "0    Dell  Intel i3         4           256  Integrated                  14.0   \n",
       "1  Lenovo  Intel i3         4          2048    RTX 4090                  15.6   \n",
       "2      HP   Ryzen 5        16          1024    RTX 4090                  15.6   \n",
       "3     MSI   Ryzen 7        32           512    GTX 1650                  16.0   \n",
       "4    Acer   Ryzen 3         4           512    GTX 1650                  14.0   \n",
       "5    Dell  Intel i7        16           256    RTX 4090                  16.0   \n",
       "6      HP  Intel i9         4          2048    RTX 4070                  13.0   \n",
       "7  Lenovo  Intel i3         4           512    RTX 4090                  15.6   \n",
       "8   Apple   Ryzen 5         4          1024  Integrated                  17.0   \n",
       "9  Lenovo  Intel i5         4          1024    RTX 4060                  16.0   \n",
       "\n",
       "   Battery Life (hours)  Price (INR)  \n",
       "0                    11        38000  \n",
       "1                     5       113000  \n",
       "2                     9       132000  \n",
       "3                     5       144000  \n",
       "4                     8        58000  \n",
       "5                     5       132000  \n",
       "6                    11       153000  \n",
       "7                    11        83000  \n",
       "8                    11        98000  \n",
       "9                    12        93000  "
      ]
     },
     "execution_count": 47,
     "metadata": {},
     "output_type": "execute_result"
    }
   ],
   "source": [
    "df = pd.read_csv(\"D:/applied ml material/laptop_prices_10k.csv\")\n",
    "df.head(10)"
   ]
  },
  {
   "cell_type": "code",
   "execution_count": 48,
   "metadata": {
    "colab": {
     "base_uri": "https://localhost:8080/"
    },
    "id": "brD5F60G47ek",
    "outputId": "52196d34-bf4c-48fa-bef5-602a6695215d"
   },
   "outputs": [
    {
     "data": {
      "text/plain": [
       "(10000, 8)"
      ]
     },
     "execution_count": 48,
     "metadata": {},
     "output_type": "execute_result"
    }
   ],
   "source": [
    "df.shape"
   ]
  },
  {
   "cell_type": "code",
   "execution_count": 49,
   "metadata": {
    "colab": {
     "base_uri": "https://localhost:8080/"
    },
    "id": "5xdor9LS5J-Y",
    "outputId": "cc7a4dcc-972b-43e3-ae35-1e7173cc425a"
   },
   "outputs": [
    {
     "name": "stdout",
     "output_type": "stream",
     "text": [
      "<class 'pandas.core.frame.DataFrame'>\n",
      "RangeIndex: 10000 entries, 0 to 9999\n",
      "Data columns (total 8 columns):\n",
      " #   Column                Non-Null Count  Dtype  \n",
      "---  ------                --------------  -----  \n",
      " 0   Brand                 10000 non-null  object \n",
      " 1   Processor             10000 non-null  object \n",
      " 2   RAM (GB)              10000 non-null  int64  \n",
      " 3   Storage (GB)          10000 non-null  int64  \n",
      " 4   GPU                   10000 non-null  object \n",
      " 5   Screen Size (inches)  10000 non-null  float64\n",
      " 6   Battery Life (hours)  10000 non-null  int64  \n",
      " 7   Price (INR)           10000 non-null  int64  \n",
      "dtypes: float64(1), int64(4), object(3)\n",
      "memory usage: 625.1+ KB\n"
     ]
    }
   ],
   "source": [
    "df.info()"
   ]
  },
  {
   "cell_type": "code",
   "execution_count": 50,
   "metadata": {
    "colab": {
     "base_uri": "https://localhost:8080/",
     "height": 335
    },
    "id": "szqIderY5Mj5",
    "outputId": "ffa10b85-c981-42a5-be3c-be0bddd90cbf"
   },
   "outputs": [
    {
     "data": {
      "text/plain": [
       "Brand                   0\n",
       "Processor               0\n",
       "RAM (GB)                0\n",
       "Storage (GB)            0\n",
       "GPU                     0\n",
       "Screen Size (inches)    0\n",
       "Battery Life (hours)    0\n",
       "Price (INR)             0\n",
       "dtype: int64"
      ]
     },
     "execution_count": 50,
     "metadata": {},
     "output_type": "execute_result"
    }
   ],
   "source": [
    "#checking for duplicates in data set\n",
    "df.duplicated().sum()\n",
    "#checking for missing values\n",
    "df.isnull().sum()"
   ]
  },
  {
   "cell_type": "code",
   "execution_count": 51,
   "metadata": {
    "id": "Z9JjhZXW5eR1"
   },
   "outputs": [],
   "source": [
    "#performing EDA\n",
    "import seaborn as sns"
   ]
  },
  {
   "cell_type": "code",
   "execution_count": 52,
   "metadata": {
    "colab": {
     "base_uri": "https://localhost:8080/",
     "height": 673
    },
    "id": "vax5KXSG5hQ8",
    "outputId": "2b117740-954c-45b6-e1d4-ef8b9899c46a"
   },
   "outputs": [
    {
     "name": "stderr",
     "output_type": "stream",
     "text": [
      "C:\\Users\\ASUS\\AppData\\Local\\Temp\\ipykernel_16268\\2450433988.py:1: UserWarning: \n",
      "\n",
      "`distplot` is a deprecated function and will be removed in seaborn v0.14.0.\n",
      "\n",
      "Please adapt your code to use either `displot` (a figure-level function with\n",
      "similar flexibility) or `histplot` (an axes-level function for histograms).\n",
      "\n",
      "For a guide to updating your code to use the new functions, please see\n",
      "https://gist.github.com/mwaskom/de44147ed2974457ad6372750bbe5751\n",
      "\n",
      "  sns.distplot(df['Price (INR)'])\n"
     ]
    },
    {
     "data": {
      "text/plain": [
       "<Axes: xlabel='Price (INR)', ylabel='Density'>"
      ]
     },
     "execution_count": 52,
     "metadata": {},
     "output_type": "execute_result"
    },
    {
     "data": {
      "image/png": "[encoded data removed]",
      "text/plain": [
       "<Figure size 640x480 with 1 Axes>"
      ]
     },
     "metadata": {},
     "output_type": "display_data"
    }
   ],
   "source": [
    "sns.distplot(df['Price (INR)'])\n"
   ]
  },
  {
   "cell_type": "code",
   "execution_count": 53,
   "metadata": {
    "colab": {
     "base_uri": "https://localhost:8080/"
    },
    "id": "mau6_cl1-KnN",
    "outputId": "ee59bf81-8aa4-4101-84cf-c34bc917e600"
   },
   "outputs": [
    {
     "name": "stdout",
     "output_type": "stream",
     "text": [
      "Number of outliers detected: 22\n"
     ]
    }
   ],
   "source": [
    "# Calculate Q1, Q3, and IQR\n",
    "Q1 = df[\"Price (INR)\"].quantile(0.25)\n",
    "Q3 = df[\"Price (INR)\"].quantile(0.75)\n",
    "IQR = Q3 - Q1\n",
    "\n",
    "# Define lower and upper bounds\n",
    "lower_bound = Q1 - 1.5 * IQR\n",
    "upper_bound = Q3 + 1.5 * IQR\n",
    "\n",
    "# Find outliers\n",
    "outliers = df[(df[\"Price (INR)\"] < lower_bound) | (df[\"Price (INR)\"] > upper_bound)]\n",
    "print(f\"Number of outliers detected: {outliers.shape[0]}\")"
   ]
  },
  {
   "cell_type": "code",
   "execution_count": 54,
   "metadata": {
    "id": "xBgqhsjNH0kB"
   },
   "outputs": [],
   "source": [
    "# Remove outliers from dataset\n",
    "df_cleaned = df[(df[\"Price (INR)\"] >= lower_bound) & (df[\"Price (INR)\"] <= upper_bound)]"
   ]
  },
  {
   "cell_type": "code",
   "execution_count": 55,
   "metadata": {
    "colab": {
     "base_uri": "https://localhost:8080/",
     "height": 502
    },
    "id": "i89eP-2_5jVf",
    "outputId": "98737ade-a17a-4ffd-d347-55cd5665b1a3"
   },
   "outputs": [
    {
     "data": {
      "text/plain": [
       "<Axes: xlabel='Brand'>"
      ]
     },
     "execution_count": 55,
     "metadata": {},
     "output_type": "execute_result"
    },
    {
     "data": {
      "image/png": "[encoded data removed]",
      "text/plain": [
       "<Figure size 640x480 with 1 Axes>"
      ]
     },
     "metadata": {},
     "output_type": "display_data"
    }
   ],
   "source": [
    "df['Brand'].value_counts().plot(kind='bar')"
   ]
  },
  {
   "cell_type": "code",
   "execution_count": 56,
   "metadata": {
    "colab": {
     "base_uri": "https://localhost:8080/",
     "height": 470
    },
    "id": "k4Nztvi95pPr",
    "outputId": "8bde5e35-7786-45e5-d569-f174de9e0fa3"
   },
   "outputs": [
    {
     "data": {
      "text/plain": [
       "<Axes: xlabel='Brand', ylabel='Price (INR)'>"
      ]
     },
     "execution_count": 56,
     "metadata": {},
     "output_type": "execute_result"
    },
    {
     "data": {
      "image/png": "[encoded data removed]",
      "text/plain": [
       "<Figure size 640x480 with 1 Axes>"
      ]
     },
     "metadata": {},
     "output_type": "display_data"
    }
   ],
   "source": [
    "sns.barplot(x=df['Brand'],y=df['Price (INR)'])"
   ]
  },
  {
   "cell_type": "code",
   "execution_count": 57,
   "metadata": {
    "colab": {
     "base_uri": "https://localhost:8080/",
     "height": 661
    },
    "id": "hGzf0AfM5veH",
    "outputId": "096a015a-3679-4429-8489-005b46ba550e"
   },
   "outputs": [
    {
     "name": "stderr",
     "output_type": "stream",
     "text": [
      "C:\\Users\\ASUS\\AppData\\Local\\Temp\\ipykernel_16268\\690891613.py:1: UserWarning: \n",
      "\n",
      "`distplot` is a deprecated function and will be removed in seaborn v0.14.0.\n",
      "\n",
      "Please adapt your code to use either `displot` (a figure-level function with\n",
      "similar flexibility) or `histplot` (an axes-level function for histograms).\n",
      "\n",
      "For a guide to updating your code to use the new functions, please see\n",
      "https://gist.github.com/mwaskom/de44147ed2974457ad6372750bbe5751\n",
      "\n",
      "  sns.distplot(df['Screen Size (inches)'])\n"
     ]
    },
    {
     "data": {
      "text/plain": [
       "<Axes: xlabel='Screen Size (inches)', ylabel='Density'>"
      ]
     },
     "execution_count": 57,
     "metadata": {},
     "output_type": "execute_result"
    },
    {
     "data": {
      "image/png": "[encoded data removed]",
      "text/plain": [
       "<Figure size 640x480 with 1 Axes>"
      ]
     },
     "metadata": {},
     "output_type": "display_data"
    }
   ],
   "source": [
    "sns.distplot(df['Screen Size (inches)'])"
   ]
  },
  {
   "cell_type": "code",
   "execution_count": 58,
   "metadata": {
    "colab": {
     "base_uri": "https://localhost:8080/",
     "height": 466
    },
    "id": "eLslmlEq55jN",
    "outputId": "d7783864-61c2-4193-c016-6813a5999b7c"
   },
   "outputs": [
    {
     "data": {
      "text/plain": [
       "<Axes: xlabel='Screen Size (inches)', ylabel='Price (INR)'>"
      ]
     },
     "execution_count": 58,
     "metadata": {},
     "output_type": "execute_result"
    },
    {
     "data": {
      "image/png": "[encoded data removed]",
      "text/plain": [
       "<Figure size 640x480 with 1 Axes>"
      ]
     },
     "metadata": {},
     "output_type": "display_data"
    }
   ],
   "source": [
    "sns.scatterplot(x=df['Screen Size (inches)'],y=df['Price (INR)'])"
   ]
  },
  {
   "cell_type": "code",
   "execution_count": 59,
   "metadata": {
    "colab": {
     "base_uri": "https://localhost:8080/",
     "height": 366
    },
    "id": "v89mRX2Y6C_4",
    "outputId": "53bad50e-2165-4ac9-9ba2-8ba3d998e232"
   },
   "outputs": [
    {
     "data": {
      "text/plain": [
       "Processor\n",
       "Intel i9    1276\n",
       "Intel i5    1268\n",
       "Ryzen 5     1266\n",
       "Intel i7    1256\n",
       "Ryzen 3     1252\n",
       "Ryzen 9     1247\n",
       "Intel i3    1241\n",
       "Ryzen 7     1194\n",
       "Name: count, dtype: int64"
      ]
     },
     "execution_count": 59,
     "metadata": {},
     "output_type": "execute_result"
    }
   ],
   "source": [
    "df['Processor'].value_counts()"
   ]
  },
  {
   "cell_type": "code",
   "execution_count": 60,
   "metadata": {
    "id": "bRChQYbr6Udk"
   },
   "outputs": [],
   "source": [
    "def fetch_processor(text):\n",
    "    if text == 'Intel i7' or text == 'Intel i5' or text == 'Intel i3' or text == 'Intel i9':\n",
    "        return text\n",
    "    if text == 'Ryzen 3' or text == 'Ryzen 5' or text == 'Ryzen 7' or text == 'Ryzen 9':\n",
    "        return text\n",
    "    else:\n",
    "        if text.split()[0] == 'Intel':\n",
    "            return 'Other Intel Processor'\n",
    "        else:\n",
    "            return 'AMD Processor'"
   ]
  },
  {
   "cell_type": "code",
   "execution_count": 61,
   "metadata": {
    "colab": {
     "base_uri": "https://localhost:8080/",
     "height": 206
    },
    "id": "JFieQyPw6cuY",
    "outputId": "ee98595a-5077-4a27-805c-ddacb5bbbb47"
   },
   "outputs": [
    {
     "data": {
      "text/html": [
       "<div>\n",
       "<style scoped>\n",
       "    .dataframe tbody tr th:only-of-type {\n",
       "        vertical-align: middle;\n",
       "    }\n",
       "\n",
       "    .dataframe tbody tr th {\n",
       "        vertical-align: top;\n",
       "    }\n",
       "\n",
       "    .dataframe thead th {\n",
       "        text-align: right;\n",
       "    }\n",
       "</style>\n",
       "<table border=\"1\" class=\"dataframe\">\n",
       "  <thead>\n",
       "    <tr style=\"text-align: right;\">\n",
       "      <th></th>\n",
       "      <th>Brand</th>\n",
       "      <th>Processor</th>\n",
       "      <th>RAM (GB)</th>\n",
       "      <th>Storage (GB)</th>\n",
       "      <th>GPU</th>\n",
       "      <th>Screen Size (inches)</th>\n",
       "      <th>Battery Life (hours)</th>\n",
       "      <th>Price (INR)</th>\n",
       "      <th>cpu brand</th>\n",
       "    </tr>\n",
       "  </thead>\n",
       "  <tbody>\n",
       "    <tr>\n",
       "      <th>0</th>\n",
       "      <td>Dell</td>\n",
       "      <td>Intel i3</td>\n",
       "      <td>4</td>\n",
       "      <td>256</td>\n",
       "      <td>Integrated</td>\n",
       "      <td>14.0</td>\n",
       "      <td>11</td>\n",
       "      <td>38000</td>\n",
       "      <td>Intel i3</td>\n",
       "    </tr>\n",
       "    <tr>\n",
       "      <th>1</th>\n",
       "      <td>Lenovo</td>\n",
       "      <td>Intel i3</td>\n",
       "      <td>4</td>\n",
       "      <td>2048</td>\n",
       "      <td>RTX 4090</td>\n",
       "      <td>15.6</td>\n",
       "      <td>5</td>\n",
       "      <td>113000</td>\n",
       "      <td>Intel i3</td>\n",
       "    </tr>\n",
       "    <tr>\n",
       "      <th>2</th>\n",
       "      <td>HP</td>\n",
       "      <td>Ryzen 5</td>\n",
       "      <td>16</td>\n",
       "      <td>1024</td>\n",
       "      <td>RTX 4090</td>\n",
       "      <td>15.6</td>\n",
       "      <td>9</td>\n",
       "      <td>132000</td>\n",
       "      <td>Ryzen 5</td>\n",
       "    </tr>\n",
       "    <tr>\n",
       "      <th>3</th>\n",
       "      <td>MSI</td>\n",
       "      <td>Ryzen 7</td>\n",
       "      <td>32</td>\n",
       "      <td>512</td>\n",
       "      <td>GTX 1650</td>\n",
       "      <td>16.0</td>\n",
       "      <td>5</td>\n",
       "      <td>144000</td>\n",
       "      <td>Ryzen 7</td>\n",
       "    </tr>\n",
       "    <tr>\n",
       "      <th>4</th>\n",
       "      <td>Acer</td>\n",
       "      <td>Ryzen 3</td>\n",
       "      <td>4</td>\n",
       "      <td>512</td>\n",
       "      <td>GTX 1650</td>\n",
       "      <td>14.0</td>\n",
       "      <td>8</td>\n",
       "      <td>58000</td>\n",
       "      <td>Ryzen 3</td>\n",
       "    </tr>\n",
       "  </tbody>\n",
       "</table>\n",
       "</div>"
      ],
      "text/plain": [
       "    Brand Processor  RAM (GB)  Storage (GB)         GPU  Screen Size (inches)  \\\n",
       "0    Dell  Intel i3         4           256  Integrated                  14.0   \n",
       "1  Lenovo  Intel i3         4          2048    RTX 4090                  15.6   \n",
       "2      HP   Ryzen 5        16          1024    RTX 4090                  15.6   \n",
       "3     MSI   Ryzen 7        32           512    GTX 1650                  16.0   \n",
       "4    Acer   Ryzen 3         4           512    GTX 1650                  14.0   \n",
       "\n",
       "   Battery Life (hours)  Price (INR) cpu brand  \n",
       "0                    11        38000  Intel i3  \n",
       "1                     5       113000  Intel i3  \n",
       "2                     9       132000   Ryzen 5  \n",
       "3                     5       144000   Ryzen 7  \n",
       "4                     8        58000   Ryzen 3  "
      ]
     },
     "execution_count": 61,
     "metadata": {},
     "output_type": "execute_result"
    }
   ],
   "source": [
    "df['cpu brand'] = df['Processor'].apply(fetch_processor)\n",
    "df.head()"
   ]
  },
  {
   "cell_type": "code",
   "execution_count": 62,
   "metadata": {
    "colab": {
     "base_uri": "https://localhost:8080/",
     "height": 507
    },
    "id": "zjzEkat36fwv",
    "outputId": "98fdef1b-4f67-4075-a028-2b2277ec55fd"
   },
   "outputs": [
    {
     "data": {
      "text/plain": [
       "<Axes: xlabel='cpu brand'>"
      ]
     },
     "execution_count": 62,
     "metadata": {},
     "output_type": "execute_result"
    },
    {
     "data": {
      "image/png": "[encoded data removed]",
      "text/plain": [
       "<Figure size 640x480 with 1 Axes>"
      ]
     },
     "metadata": {},
     "output_type": "display_data"
    }
   ],
   "source": [
    "df['cpu brand'].value_counts().plot(kind='bar')"
   ]
  },
  {
   "cell_type": "code",
   "execution_count": 63,
   "metadata": {
    "colab": {
     "base_uri": "https://localhost:8080/",
     "height": 493
    },
    "id": "H4M49gUd6j-R",
    "outputId": "dede722a-0a3b-4e58-e526-c97ac5162b8b"
   },
   "outputs": [
    {
     "data": {
      "image/png": "[encoded data removed]",
      "text/plain": [
       "<Figure size 640x480 with 1 Axes>"
      ]
     },
     "metadata": {},
     "output_type": "display_data"
    }
   ],
   "source": [
    "import matplotlib.pyplot as plt\n",
    "sns.barplot(x=df['cpu brand'],y=df['Price (INR)'])\n",
    "plt.xticks(rotation = 'vertical')\n",
    "plt.show()"
   ]
  },
  {
   "cell_type": "code",
   "execution_count": 64,
   "metadata": {
    "id": "Xg9tz4xU69v2"
   },
   "outputs": [],
   "source": [
    "df.drop(columns=['Processor'],inplace=True)"
   ]
  },
  {
   "cell_type": "code",
   "execution_count": 65,
   "metadata": {
    "colab": {
     "base_uri": "https://localhost:8080/",
     "height": 470
    },
    "id": "C5tpBC_B7BUi",
    "outputId": "461a0182-76a5-438f-d913-d19c9b267ba1"
   },
   "outputs": [
    {
     "data": {
      "text/plain": [
       "<Axes: xlabel='RAM (GB)'>"
      ]
     },
     "execution_count": 65,
     "metadata": {},
     "output_type": "execute_result"
    },
    {
     "data": {
      "image/png": "[encoded data removed]",
      "text/plain": [
       "<Figure size 640x480 with 1 Axes>"
      ]
     },
     "metadata": {},
     "output_type": "display_data"
    }
   ],
   "source": [
    "df['RAM (GB)'].value_counts().plot(kind = 'bar')"
   ]
  },
  {
   "cell_type": "code",
   "execution_count": 66,
   "metadata": {
    "colab": {
     "base_uri": "https://localhost:8080/",
     "height": 453
    },
    "id": "ZOWwGfY37Ewq",
    "outputId": "11ce0779-b6f1-42ad-f10f-7b0097cdb7f5"
   },
   "outputs": [
    {
     "data": {
      "image/png": "[encoded data removed]",
      "text/plain": [
       "<Figure size 640x480 with 1 Axes>"
      ]
     },
     "metadata": {},
     "output_type": "display_data"
    }
   ],
   "source": [
    "sns.barplot(x=df['RAM (GB)'],y=df['Price (INR)'])\n",
    "plt.xticks(rotation = 'vertical')\n",
    "plt.show()"
   ]
  },
  {
   "cell_type": "code",
   "execution_count": 67,
   "metadata": {
    "colab": {
     "base_uri": "https://localhost:8080/",
     "height": 241
    },
    "id": "EUTrZOeH7MUS",
    "outputId": "51ce72b2-7760-4eed-e2a6-05313afb68e9"
   },
   "outputs": [
    {
     "data": {
      "text/plain": [
       "Storage (GB)\n",
       "256     2540\n",
       "512     2498\n",
       "1024    2490\n",
       "2048    2472\n",
       "Name: count, dtype: int64"
      ]
     },
     "execution_count": 67,
     "metadata": {},
     "output_type": "execute_result"
    }
   ],
   "source": [
    "df['Storage (GB)'].value_counts()"
   ]
  },
  {
   "cell_type": "code",
   "execution_count": 68,
   "metadata": {
    "colab": {
     "base_uri": "https://localhost:8080/",
     "height": 335
    },
    "id": "TFHKHnQg7OOa",
    "outputId": "d551c3d9-3acd-4346-d8c2-ce07dc4b3325"
   },
   "outputs": [
    {
     "data": {
      "text/plain": [
       "GPU\n",
       "RTX 4060      1527\n",
       "Integrated    1467\n",
       "RTX 4070      1440\n",
       "GTX 1650      1409\n",
       "RTX 4080      1388\n",
       "RTX 3050      1385\n",
       "RTX 4090      1384\n",
       "Name: count, dtype: int64"
      ]
     },
     "execution_count": 68,
     "metadata": {},
     "output_type": "execute_result"
    }
   ],
   "source": [
    "df['GPU'].value_counts()"
   ]
  },
  {
   "cell_type": "code",
   "execution_count": 69,
   "metadata": {
    "colab": {
     "base_uri": "https://localhost:8080/",
     "height": 508
    },
    "id": "IIfP97Pi7csF",
    "outputId": "90198c76-b523-42bc-846b-a445aae058c6"
   },
   "outputs": [
    {
     "data": {
      "image/png": "[encoded data removed]",
      "text/plain": [
       "<Figure size 640x480 with 1 Axes>"
      ]
     },
     "metadata": {},
     "output_type": "display_data"
    }
   ],
   "source": [
    "sns.barplot(x=df['GPU'],y=df['Price (INR)'],estimator=np.median)\n",
    "plt.xticks(rotation = 'vertical')\n",
    "plt.show()"
   ]
  },
  {
   "cell_type": "code",
   "execution_count": null,
   "metadata": {
    "id": "0ZhCvAZP7pzA"
   },
   "outputs": [],
   "source": []
  },
  {
   "cell_type": "code",
   "execution_count": 70,
   "metadata": {
    "colab": {
     "base_uri": "https://localhost:8080/",
     "height": 387
    },
    "id": "5yTE3jeC7v12",
    "outputId": "d671f140-b2e4-40cf-9721-d9d43374d336"
   },
   "outputs": [
    {
     "name": "stdout",
     "output_type": "stream",
     "text": [
      "Total number of Brands: 7\n",
      "\n",
      "Number of laptops per brand:\n"
     ]
    },
    {
     "data": {
      "text/plain": [
       "Brand\n",
       "Acer      1401\n",
       "Apple     1421\n",
       "Asus      1416\n",
       "Dell      1464\n",
       "HP        1474\n",
       "Lenovo    1424\n",
       "MSI       1400\n",
       "Name: Brand, dtype: int64"
      ]
     },
     "execution_count": 70,
     "metadata": {},
     "output_type": "execute_result"
    }
   ],
   "source": [
    "brand_counts = df.groupby('Brand')['Brand'].count()\n",
    "print(\"Total number of Brands:\", len(brand_counts))\n",
    "print(\"\\nNumber of laptops per brand:\")\n",
    "brand_counts"
   ]
  },
  {
   "cell_type": "code",
   "execution_count": 71,
   "metadata": {
    "colab": {
     "base_uri": "https://localhost:8080/",
     "height": 523
    },
    "id": "5UGL8-jF8B-W",
    "outputId": "b92f86e1-398b-42ff-f1da-5c4598efdaaf"
   },
   "outputs": [
    {
     "data": {
      "text/plain": [
       "<seaborn.axisgrid.FacetGrid at 0x1eab66d2b70>"
      ]
     },
     "execution_count": 71,
     "metadata": {},
     "output_type": "execute_result"
    },
    {
     "data": {
      "image/png": "[encoded data removed]",
      "text/plain": [
       "<Figure size 500x500 with 1 Axes>"
      ]
     },
     "metadata": {},
     "output_type": "display_data"
    }
   ],
   "source": [
    "sns.displot(df['Price (INR)'])"
   ]
  },
  {
   "cell_type": "markdown",
   "metadata": {
    "id": "oG0KuwB78GJY"
   },
   "source": [
    "The price column appears to be \"skewed this can hinder in the performance of our model so we will apply log function to it to make it work better"
   ]
  },
  {
   "cell_type": "code",
   "execution_count": 72,
   "metadata": {
    "id": "a0N8q1DO8JJY"
   },
   "outputs": [],
   "source": [
    "x = df.drop(columns=['Price (INR)'])\n",
    "y= np.log(df['Price (INR)'])"
   ]
  },
  {
   "cell_type": "code",
   "execution_count": 73,
   "metadata": {
    "colab": {
     "base_uri": "https://localhost:8080/",
     "height": 206
    },
    "id": "QPOTfSs58J2V",
    "outputId": "48e02dc8-b84f-4056-f1ca-38e0b7e4ecff"
   },
   "outputs": [
    {
     "data": {
      "text/html": [
       "<div>\n",
       "<style scoped>\n",
       "    .dataframe tbody tr th:only-of-type {\n",
       "        vertical-align: middle;\n",
       "    }\n",
       "\n",
       "    .dataframe tbody tr th {\n",
       "        vertical-align: top;\n",
       "    }\n",
       "\n",
       "    .dataframe thead th {\n",
       "        text-align: right;\n",
       "    }\n",
       "</style>\n",
       "<table border=\"1\" class=\"dataframe\">\n",
       "  <thead>\n",
       "    <tr style=\"text-align: right;\">\n",
       "      <th></th>\n",
       "      <th>Brand</th>\n",
       "      <th>RAM (GB)</th>\n",
       "      <th>Storage (GB)</th>\n",
       "      <th>GPU</th>\n",
       "      <th>Screen Size (inches)</th>\n",
       "      <th>Battery Life (hours)</th>\n",
       "      <th>cpu brand</th>\n",
       "    </tr>\n",
       "  </thead>\n",
       "  <tbody>\n",
       "    <tr>\n",
       "      <th>0</th>\n",
       "      <td>Dell</td>\n",
       "      <td>4</td>\n",
       "      <td>256</td>\n",
       "      <td>Integrated</td>\n",
       "      <td>14.0</td>\n",
       "      <td>11</td>\n",
       "      <td>Intel i3</td>\n",
       "    </tr>\n",
       "    <tr>\n",
       "      <th>1</th>\n",
       "      <td>Lenovo</td>\n",
       "      <td>4</td>\n",
       "      <td>2048</td>\n",
       "      <td>RTX 4090</td>\n",
       "      <td>15.6</td>\n",
       "      <td>5</td>\n",
       "      <td>Intel i3</td>\n",
       "    </tr>\n",
       "    <tr>\n",
       "      <th>2</th>\n",
       "      <td>HP</td>\n",
       "      <td>16</td>\n",
       "      <td>1024</td>\n",
       "      <td>RTX 4090</td>\n",
       "      <td>15.6</td>\n",
       "      <td>9</td>\n",
       "      <td>Ryzen 5</td>\n",
       "    </tr>\n",
       "    <tr>\n",
       "      <th>3</th>\n",
       "      <td>MSI</td>\n",
       "      <td>32</td>\n",
       "      <td>512</td>\n",
       "      <td>GTX 1650</td>\n",
       "      <td>16.0</td>\n",
       "      <td>5</td>\n",
       "      <td>Ryzen 7</td>\n",
       "    </tr>\n",
       "    <tr>\n",
       "      <th>4</th>\n",
       "      <td>Acer</td>\n",
       "      <td>4</td>\n",
       "      <td>512</td>\n",
       "      <td>GTX 1650</td>\n",
       "      <td>14.0</td>\n",
       "      <td>8</td>\n",
       "      <td>Ryzen 3</td>\n",
       "    </tr>\n",
       "  </tbody>\n",
       "</table>\n",
       "</div>"
      ],
      "text/plain": [
       "    Brand  RAM (GB)  Storage (GB)         GPU  Screen Size (inches)  \\\n",
       "0    Dell         4           256  Integrated                  14.0   \n",
       "1  Lenovo         4          2048    RTX 4090                  15.6   \n",
       "2      HP        16          1024    RTX 4090                  15.6   \n",
       "3     MSI        32           512    GTX 1650                  16.0   \n",
       "4    Acer         4           512    GTX 1650                  14.0   \n",
       "\n",
       "   Battery Life (hours) cpu brand  \n",
       "0                    11  Intel i3  \n",
       "1                     5  Intel i3  \n",
       "2                     9   Ryzen 5  \n",
       "3                     5   Ryzen 7  \n",
       "4                     8   Ryzen 3  "
      ]
     },
     "execution_count": 73,
     "metadata": {},
     "output_type": "execute_result"
    }
   ],
   "source": [
    "x.head()"
   ]
  },
  {
   "cell_type": "code",
   "execution_count": 74,
   "metadata": {
    "colab": {
     "base_uri": "https://localhost:8080/",
     "height": 241
    },
    "id": "MLWbArqJ8MnW",
    "outputId": "7ea8db10-4499-475f-a430-3b1a46cb9dc0"
   },
   "outputs": [
    {
     "data": {
      "text/plain": [
       "0    10.545341\n",
       "1    11.635143\n",
       "2    11.790557\n",
       "3    11.877569\n",
       "4    10.968198\n",
       "Name: Price (INR), dtype: float64"
      ]
     },
     "execution_count": 74,
     "metadata": {},
     "output_type": "execute_result"
    }
   ],
   "source": [
    "y.head()"
   ]
  },
  {
   "cell_type": "code",
   "execution_count": 75,
   "metadata": {
    "id": "47IjWuLG8VcM"
   },
   "outputs": [],
   "source": [
    "from sklearn.model_selection import train_test_split\n",
    "x_train,x_test,y_train,y_test = train_test_split(x,y,test_size=0.15,random_state=2)"
   ]
  },
  {
   "cell_type": "code",
   "execution_count": 76,
   "metadata": {
    "colab": {
     "base_uri": "https://localhost:8080/",
     "height": 206
    },
    "id": "DLFThc928ZP6",
    "outputId": "ffcb2c2c-c81c-4c50-dad4-580bd55ca594"
   },
   "outputs": [
    {
     "data": {
      "text/html": [
       "<div>\n",
       "<style scoped>\n",
       "    .dataframe tbody tr th:only-of-type {\n",
       "        vertical-align: middle;\n",
       "    }\n",
       "\n",
       "    .dataframe tbody tr th {\n",
       "        vertical-align: top;\n",
       "    }\n",
       "\n",
       "    .dataframe thead th {\n",
       "        text-align: right;\n",
       "    }\n",
       "</style>\n",
       "<table border=\"1\" class=\"dataframe\">\n",
       "  <thead>\n",
       "    <tr style=\"text-align: right;\">\n",
       "      <th></th>\n",
       "      <th>Brand</th>\n",
       "      <th>RAM (GB)</th>\n",
       "      <th>Storage (GB)</th>\n",
       "      <th>GPU</th>\n",
       "      <th>Screen Size (inches)</th>\n",
       "      <th>Battery Life (hours)</th>\n",
       "      <th>cpu brand</th>\n",
       "    </tr>\n",
       "  </thead>\n",
       "  <tbody>\n",
       "    <tr>\n",
       "      <th>3701</th>\n",
       "      <td>Lenovo</td>\n",
       "      <td>32</td>\n",
       "      <td>1024</td>\n",
       "      <td>RTX 4080</td>\n",
       "      <td>17.0</td>\n",
       "      <td>12</td>\n",
       "      <td>Ryzen 7</td>\n",
       "    </tr>\n",
       "    <tr>\n",
       "      <th>4498</th>\n",
       "      <td>Asus</td>\n",
       "      <td>32</td>\n",
       "      <td>1024</td>\n",
       "      <td>GTX 1650</td>\n",
       "      <td>15.6</td>\n",
       "      <td>10</td>\n",
       "      <td>Intel i9</td>\n",
       "    </tr>\n",
       "    <tr>\n",
       "      <th>9740</th>\n",
       "      <td>Dell</td>\n",
       "      <td>16</td>\n",
       "      <td>256</td>\n",
       "      <td>RTX 4090</td>\n",
       "      <td>14.0</td>\n",
       "      <td>12</td>\n",
       "      <td>Intel i5</td>\n",
       "    </tr>\n",
       "    <tr>\n",
       "      <th>4738</th>\n",
       "      <td>HP</td>\n",
       "      <td>8</td>\n",
       "      <td>512</td>\n",
       "      <td>RTX 4080</td>\n",
       "      <td>15.6</td>\n",
       "      <td>12</td>\n",
       "      <td>Ryzen 7</td>\n",
       "    </tr>\n",
       "    <tr>\n",
       "      <th>5378</th>\n",
       "      <td>Acer</td>\n",
       "      <td>32</td>\n",
       "      <td>1024</td>\n",
       "      <td>RTX 4060</td>\n",
       "      <td>13.0</td>\n",
       "      <td>10</td>\n",
       "      <td>Ryzen 7</td>\n",
       "    </tr>\n",
       "  </tbody>\n",
       "</table>\n",
       "</div>"
      ],
      "text/plain": [
       "       Brand  RAM (GB)  Storage (GB)       GPU  Screen Size (inches)  \\\n",
       "3701  Lenovo        32          1024  RTX 4080                  17.0   \n",
       "4498    Asus        32          1024  GTX 1650                  15.6   \n",
       "9740    Dell        16           256  RTX 4090                  14.0   \n",
       "4738      HP         8           512  RTX 4080                  15.6   \n",
       "5378    Acer        32          1024  RTX 4060                  13.0   \n",
       "\n",
       "      Battery Life (hours) cpu brand  \n",
       "3701                    12   Ryzen 7  \n",
       "4498                    10  Intel i9  \n",
       "9740                    12  Intel i5  \n",
       "4738                    12   Ryzen 7  \n",
       "5378                    10   Ryzen 7  "
      ]
     },
     "execution_count": 76,
     "metadata": {},
     "output_type": "execute_result"
    }
   ],
   "source": [
    "x_train.head()"
   ]
  },
  {
   "cell_type": "code",
   "execution_count": 77,
   "metadata": {
    "id": "RSXbi_Xp8b0T"
   },
   "outputs": [],
   "source": [
    "from sklearn.compose import ColumnTransformer\n",
    "from sklearn.pipeline import Pipeline\n",
    "from sklearn.preprocessing import OneHotEncoder\n",
    "from sklearn.metrics import r2_score,mean_absolute_error"
   ]
  },
  {
   "cell_type": "code",
   "execution_count": 78,
   "metadata": {
    "colab": {
     "base_uri": "https://localhost:8080/",
     "height": 206
    },
    "id": "_FR-zqX_8sPz",
    "outputId": "3b85f8b7-5524-4f67-bef9-eecf0c44b888"
   },
   "outputs": [
    {
     "data": {
      "text/html": [
       "<div>\n",
       "<style scoped>\n",
       "    .dataframe tbody tr th:only-of-type {\n",
       "        vertical-align: middle;\n",
       "    }\n",
       "\n",
       "    .dataframe tbody tr th {\n",
       "        vertical-align: top;\n",
       "    }\n",
       "\n",
       "    .dataframe thead th {\n",
       "        text-align: right;\n",
       "    }\n",
       "</style>\n",
       "<table border=\"1\" class=\"dataframe\">\n",
       "  <thead>\n",
       "    <tr style=\"text-align: right;\">\n",
       "      <th></th>\n",
       "      <th>Brand</th>\n",
       "      <th>RAM (GB)</th>\n",
       "      <th>Storage (GB)</th>\n",
       "      <th>GPU</th>\n",
       "      <th>Screen Size (inches)</th>\n",
       "      <th>Battery Life (hours)</th>\n",
       "      <th>cpu brand</th>\n",
       "    </tr>\n",
       "  </thead>\n",
       "  <tbody>\n",
       "    <tr>\n",
       "      <th>0</th>\n",
       "      <td>Dell</td>\n",
       "      <td>4</td>\n",
       "      <td>256</td>\n",
       "      <td>Integrated</td>\n",
       "      <td>14.0</td>\n",
       "      <td>11</td>\n",
       "      <td>Intel i3</td>\n",
       "    </tr>\n",
       "    <tr>\n",
       "      <th>1</th>\n",
       "      <td>Lenovo</td>\n",
       "      <td>4</td>\n",
       "      <td>2048</td>\n",
       "      <td>RTX 4090</td>\n",
       "      <td>15.6</td>\n",
       "      <td>5</td>\n",
       "      <td>Intel i3</td>\n",
       "    </tr>\n",
       "    <tr>\n",
       "      <th>2</th>\n",
       "      <td>HP</td>\n",
       "      <td>16</td>\n",
       "      <td>1024</td>\n",
       "      <td>RTX 4090</td>\n",
       "      <td>15.6</td>\n",
       "      <td>9</td>\n",
       "      <td>Ryzen 5</td>\n",
       "    </tr>\n",
       "    <tr>\n",
       "      <th>3</th>\n",
       "      <td>MSI</td>\n",
       "      <td>32</td>\n",
       "      <td>512</td>\n",
       "      <td>GTX 1650</td>\n",
       "      <td>16.0</td>\n",
       "      <td>5</td>\n",
       "      <td>Ryzen 7</td>\n",
       "    </tr>\n",
       "    <tr>\n",
       "      <th>4</th>\n",
       "      <td>Acer</td>\n",
       "      <td>4</td>\n",
       "      <td>512</td>\n",
       "      <td>GTX 1650</td>\n",
       "      <td>14.0</td>\n",
       "      <td>8</td>\n",
       "      <td>Ryzen 3</td>\n",
       "    </tr>\n",
       "  </tbody>\n",
       "</table>\n",
       "</div>"
      ],
      "text/plain": [
       "    Brand  RAM (GB)  Storage (GB)         GPU  Screen Size (inches)  \\\n",
       "0    Dell         4           256  Integrated                  14.0   \n",
       "1  Lenovo         4          2048    RTX 4090                  15.6   \n",
       "2      HP        16          1024    RTX 4090                  15.6   \n",
       "3     MSI        32           512    GTX 1650                  16.0   \n",
       "4    Acer         4           512    GTX 1650                  14.0   \n",
       "\n",
       "   Battery Life (hours) cpu brand  \n",
       "0                    11  Intel i3  \n",
       "1                     5  Intel i3  \n",
       "2                     9   Ryzen 5  \n",
       "3                     5   Ryzen 7  \n",
       "4                     8   Ryzen 3  "
      ]
     },
     "execution_count": 78,
     "metadata": {},
     "output_type": "execute_result"
    }
   ],
   "source": [
    "x.head()"
   ]
  },
  {
   "cell_type": "markdown",
   "metadata": {
    "id": "MEZOcQ3X8gla"
   },
   "source": [
    "we will apply one hot encoding to handle catagorical calumns\n"
   ]
  },
  {
   "cell_type": "code",
   "execution_count": 88,
   "metadata": {
    "colab": {
     "base_uri": "https://localhost:8080/"
    },
    "id": "_Dw54NW38nC7",
    "outputId": "738e8496-8052-4f75-e3fd-b4483a2380ac"
   },
   "outputs": [
    {
     "name": "stdout",
     "output_type": "stream",
     "text": [
      "R2 score: 0.9621442413710173\n",
      "MAE: 0.039885603793517355\n"
     ]
    }
   ],
   "source": [
    "#Linear regg.\n",
    "from sklearn.compose import ColumnTransformer\n",
    "from sklearn.preprocessing import OneHotEncoder, StandardScaler\n",
    "from sklearn.metrics import r2_score, mean_absolute_error\n",
    "\n",
    "# Define preprocessing for categorical and numerical features\n",
    "step1 = ColumnTransformer(\n",
    "    transformers=[\n",
    "        ('col_tnf', OneHotEncoder(sparse_output=False, drop='first'), [0, 3, 6]),  # Encoding categorical features\n",
    "        ('num_tnf', StandardScaler(), [1, 2, 4, 5])  # Scaling numerical features (RAM, Storage, Screen Size, Battery Life)\n",
    "    ],\n",
    "    remainder='passthrough'  # Ensuring all features are used\n",
    ")\n",
    "\n",
    "step2 = LinearRegression()\n",
    "\n",
    "pipe = Pipeline([\n",
    "    ('step1', step1),\n",
    "    ('step2', step2)\n",
    "])\n",
    "\n",
    "# Fit the model\n",
    "pipe.fit(x_train, y_train)\n",
    "\n",
    "# Make predictions\n",
    "y_pred = pipe.predict(x_test)\n",
    "\n",
    "# Evaluate the model\n",
    "print('R2 score:', r2_score(y_test, y_pred))\n",
    "print('MAE:', mean_absolute_error(y_test, y_pred))\n"
   ]
  },
  {
   "cell_type": "code",
   "execution_count": 87,
   "metadata": {
    "colab": {
     "base_uri": "https://localhost:8080/"
    },
    "id": "-QEfeiFz8qF1",
    "outputId": "cfe86cce-f1ba-4d02-a335-9be4b5c32b83"
   },
   "outputs": [
    {
     "name": "stdout",
     "output_type": "stream",
     "text": [
      "R2 Score: 0.8600362732626581\n",
      "MAE: 0.08901069494487536\n"
     ]
    }
   ],
   "source": [
    "#knn\n",
    "from sklearn.preprocessing import OneHotEncoder, StandardScaler\n",
    "from sklearn.neighbors import KNeighborsRegressor\n",
    "from sklearn.metrics import r2_score, mean_absolute_error\n",
    "\n",
    "# Define preprocessing for categorical and numerical features\n",
    "step1 = ColumnTransformer(\n",
    "    transformers=[\n",
    "        ('col_tnf', OneHotEncoder(sparse_output=False, drop='first'), [0, 3, 6]),  # Encoding categorical features\n",
    "        ('num_tnf', StandardScaler(), [1, 2, 4, 5])  # Scaling numerical features (RAM, Storage, Screen Size, Battery Life)\n",
    "    ],\n",
    "    remainder='passthrough'  # Ensuring all features are used\n",
    ")\n",
    "\n",
    "step2 = KNeighborsRegressor(n_neighbors=10)\n",
    "\n",
    "pipe = Pipeline([\n",
    "    ('step1', step1),\n",
    "    ('step2', step2)\n",
    "])\n",
    "\n",
    "# Fit the model\n",
    "pipe.fit(x_train, y_train)\n",
    "\n",
    "# Make predictions\n",
    "y_pred = pipe.predict(x_test)\n",
    "\n",
    "# Evaluate the model\n",
    "print('R2 Score:', r2_score(y_test, y_pred))\n",
    "print('MAE:', mean_absolute_error(y_test, y_pred))\n"
   ]
  },
  {
   "cell_type": "code",
   "execution_count": 94,
   "metadata": {
    "colab": {
     "base_uri": "https://localhost:8080/"
    },
    "id": "fefsmwGbIcx1",
    "outputId": "fa640092-b44a-4368-eba2-7b773e63c7d1"
   },
   "outputs": [
    {
     "name": "stdout",
     "output_type": "stream",
     "text": [
      "R2 Score: 0.9613287847972554\n",
      "MAE: 0.05049021426602216\n"
     ]
    }
   ],
   "source": [
    "#svr\n",
    "from sklearn.preprocessing import OneHotEncoder, StandardScaler\n",
    "from sklearn.svm import SVR\n",
    "from sklearn.metrics import r2_score, mean_absolute_error\n",
    "\n",
    "# Define preprocessing for categorical and numerical features\n",
    "step1 = ColumnTransformer(\n",
    "    transformers=[\n",
    "        ('col_tnf', OneHotEncoder(sparse_output=False, drop='first'), [0, 3, 6]),  # Encoding categorical features\n",
    "        ('num_tnf', StandardScaler(), [1, 2, 4, 5])  # Scaling numerical features (RAM, Storage, Screen Size, Battery Life)\n",
    "    ],\n",
    "    remainder='passthrough'  # Ensuring all features are used\n",
    ")\n",
    "\n",
    "step2 = SVR(kernel='rbf', C=10000, epsilon=0.1)\n",
    "\n",
    "pipe = Pipeline([\n",
    "    ('step1', step1),\n",
    "    ('step2', step2)\n",
    "])\n",
    "\n",
    "# Fit the model\n",
    "pipe.fit(x_train, y_train)\n",
    "\n",
    "# Make predictions\n",
    "y_pred = pipe.predict(x_test)\n",
    "\n",
    "# Evaluate the model\n",
    "print('R2 Score:', r2_score(y_test, y_pred))\n",
    "print('MAE:', mean_absolute_error(y_test, y_pred))"
   ]
  },
  {
   "cell_type": "code",
   "execution_count": 95,
   "metadata": {
    "id": "1sH4B35KJHzq"
   },
   "outputs": [],
   "source": [
    "import pickle\n",
    "pickle.dump(df,open('df.pkl','wb'))\n",
    "pickle.dump(pipe,open('pipe.pkl','wb'))\n"
   ]
  },
  {
   "cell_type": "code",
   "execution_count": 96,
   "metadata": {},
   "outputs": [
    {
     "data": {
      "text/html": [
       "<div>\n",
       "<style scoped>\n",
       "    .dataframe tbody tr th:only-of-type {\n",
       "        vertical-align: middle;\n",
       "    }\n",
       "\n",
       "    .dataframe tbody tr th {\n",
       "        vertical-align: top;\n",
       "    }\n",
       "\n",
       "    .dataframe thead th {\n",
       "        text-align: right;\n",
       "    }\n",
       "</style>\n",
       "<table border=\"1\" class=\"dataframe\">\n",
       "  <thead>\n",
       "    <tr style=\"text-align: right;\">\n",
       "      <th></th>\n",
       "      <th>Brand</th>\n",
       "      <th>RAM (GB)</th>\n",
       "      <th>Storage (GB)</th>\n",
       "      <th>GPU</th>\n",
       "      <th>Screen Size (inches)</th>\n",
       "      <th>Battery Life (hours)</th>\n",
       "      <th>cpu brand</th>\n",
       "    </tr>\n",
       "  </thead>\n",
       "  <tbody>\n",
       "    <tr>\n",
       "      <th>3701</th>\n",
       "      <td>Lenovo</td>\n",
       "      <td>32</td>\n",
       "      <td>1024</td>\n",
       "      <td>RTX 4080</td>\n",
       "      <td>17.0</td>\n",
       "      <td>12</td>\n",
       "      <td>Ryzen 7</td>\n",
       "    </tr>\n",
       "    <tr>\n",
       "      <th>4498</th>\n",
       "      <td>Asus</td>\n",
       "      <td>32</td>\n",
       "      <td>1024</td>\n",
       "      <td>GTX 1650</td>\n",
       "      <td>15.6</td>\n",
       "      <td>10</td>\n",
       "      <td>Intel i9</td>\n",
       "    </tr>\n",
       "    <tr>\n",
       "      <th>9740</th>\n",
       "      <td>Dell</td>\n",
       "      <td>16</td>\n",
       "      <td>256</td>\n",
       "      <td>RTX 4090</td>\n",
       "      <td>14.0</td>\n",
       "      <td>12</td>\n",
       "      <td>Intel i5</td>\n",
       "    </tr>\n",
       "    <tr>\n",
       "      <th>4738</th>\n",
       "      <td>HP</td>\n",
       "      <td>8</td>\n",
       "      <td>512</td>\n",
       "      <td>RTX 4080</td>\n",
       "      <td>15.6</td>\n",
       "      <td>12</td>\n",
       "      <td>Ryzen 7</td>\n",
       "    </tr>\n",
       "    <tr>\n",
       "      <th>5378</th>\n",
       "      <td>Acer</td>\n",
       "      <td>32</td>\n",
       "      <td>1024</td>\n",
       "      <td>RTX 4060</td>\n",
       "      <td>13.0</td>\n",
       "      <td>10</td>\n",
       "      <td>Ryzen 7</td>\n",
       "    </tr>\n",
       "    <tr>\n",
       "      <th>...</th>\n",
       "      <td>...</td>\n",
       "      <td>...</td>\n",
       "      <td>...</td>\n",
       "      <td>...</td>\n",
       "      <td>...</td>\n",
       "      <td>...</td>\n",
       "      <td>...</td>\n",
       "    </tr>\n",
       "    <tr>\n",
       "      <th>1099</th>\n",
       "      <td>Apple</td>\n",
       "      <td>4</td>\n",
       "      <td>256</td>\n",
       "      <td>RTX 4060</td>\n",
       "      <td>13.0</td>\n",
       "      <td>6</td>\n",
       "      <td>Intel i5</td>\n",
       "    </tr>\n",
       "    <tr>\n",
       "      <th>2514</th>\n",
       "      <td>Acer</td>\n",
       "      <td>4</td>\n",
       "      <td>1024</td>\n",
       "      <td>RTX 4080</td>\n",
       "      <td>14.0</td>\n",
       "      <td>5</td>\n",
       "      <td>Ryzen 5</td>\n",
       "    </tr>\n",
       "    <tr>\n",
       "      <th>6637</th>\n",
       "      <td>MSI</td>\n",
       "      <td>16</td>\n",
       "      <td>512</td>\n",
       "      <td>GTX 1650</td>\n",
       "      <td>14.0</td>\n",
       "      <td>6</td>\n",
       "      <td>Intel i7</td>\n",
       "    </tr>\n",
       "    <tr>\n",
       "      <th>2575</th>\n",
       "      <td>HP</td>\n",
       "      <td>4</td>\n",
       "      <td>512</td>\n",
       "      <td>Integrated</td>\n",
       "      <td>15.6</td>\n",
       "      <td>8</td>\n",
       "      <td>Ryzen 9</td>\n",
       "    </tr>\n",
       "    <tr>\n",
       "      <th>7336</th>\n",
       "      <td>Lenovo</td>\n",
       "      <td>16</td>\n",
       "      <td>256</td>\n",
       "      <td>GTX 1650</td>\n",
       "      <td>16.0</td>\n",
       "      <td>10</td>\n",
       "      <td>Intel i9</td>\n",
       "    </tr>\n",
       "  </tbody>\n",
       "</table>\n",
       "<p>8500 rows × 7 columns</p>\n",
       "</div>"
      ],
      "text/plain": [
       "       Brand  RAM (GB)  Storage (GB)         GPU  Screen Size (inches)  \\\n",
       "3701  Lenovo        32          1024    RTX 4080                  17.0   \n",
       "4498    Asus        32          1024    GTX 1650                  15.6   \n",
       "9740    Dell        16           256    RTX 4090                  14.0   \n",
       "4738      HP         8           512    RTX 4080                  15.6   \n",
       "5378    Acer        32          1024    RTX 4060                  13.0   \n",
       "...      ...       ...           ...         ...                   ...   \n",
       "1099   Apple         4           256    RTX 4060                  13.0   \n",
       "2514    Acer         4          1024    RTX 4080                  14.0   \n",
       "6637     MSI        16           512    GTX 1650                  14.0   \n",
       "2575      HP         4           512  Integrated                  15.6   \n",
       "7336  Lenovo        16           256    GTX 1650                  16.0   \n",
       "\n",
       "      Battery Life (hours) cpu brand  \n",
       "3701                    12   Ryzen 7  \n",
       "4498                    10  Intel i9  \n",
       "9740                    12  Intel i5  \n",
       "4738                    12   Ryzen 7  \n",
       "5378                    10   Ryzen 7  \n",
       "...                    ...       ...  \n",
       "1099                     6  Intel i5  \n",
       "2514                     5   Ryzen 5  \n",
       "6637                     6  Intel i7  \n",
       "2575                     8   Ryzen 9  \n",
       "7336                    10  Intel i9  \n",
       "\n",
       "[8500 rows x 7 columns]"
      ]
     },
     "execution_count": 96,
     "metadata": {},
     "output_type": "execute_result"
    }
   ],
   "source": [
    "x_train"
   ]
  },
  {
   "cell_type": "code",
   "execution_count": null,
   "metadata": {},
   "outputs": [],
   "source": []
  }
 ],
 "metadata": {
  "colab": {
   "provenance": []
  },
  "kernelspec": {
   "display_name": "Python 3 (ipykernel)",
   "language": "python",
   "name": "python3"
  },
  "language_info": {
   "codemirror_mode": {
    "name": "ipython",
    "version": 3
   },
   "file_extension": ".py",
   "mimetype": "text/x-python",
   "name": "python",
   "nbconvert_exporter": "python",
   "pygments_lexer": "ipython3",
   "version": "3.12.4"
  }
 },
 "nbformat": 4,
 "nbformat_minor": 4
}
